{
 "metadata": {
  "name": ""
 },
 "nbformat": 3,
 "nbformat_minor": 0,
 "worksheets": [
  {
   "cells": [
    {
     "cell_type": "code",
     "collapsed": false,
     "input": [
      "import pandas as pd\n",
      "import numpy as np\n",
      "import matplotlib.pyplot as plt\n",
      "from pandas import DataFrame, Series"
     ],
     "language": "python",
     "metadata": {},
     "outputs": [],
     "prompt_number": 143
    },
    {
     "cell_type": "code",
     "collapsed": false,
     "input": [
      "rides = pd.read_csv('https://s3-us-west-2.amazonaws.com/mpcs53110/Divvy_Trips_2013.csv')\n",
      "stations = pd.read_csv('https://s3-us-west-2.amazonaws.com/mpcs53110/Divvy_Stations_2013.csv')\n",
      "\n",
      "master = pd.merge(rides, stations[['id','latitude','longitude','online date']].rename(columns={'latitude' : 'lat_from', 'longitude' : 'lon_from', 'online date' : 'date_from',  'id' : 'from_station_id'}), how = 'left', on = 'from_station_id')\n",
      "master = pd.merge(master, stations[['id','latitude','longitude','online date']].rename(columns={'latitude' : 'lat_to', 'longitude' : 'lon_to', 'online date' : 'date_to', 'id' : 'to_station_id'}), how = 'left', on = 'to_station_id')\n",
      "\n",
      "master.date_from = pd.to_datetime(master.date_from)\n",
      "master.date_to = pd.to_datetime(master.date_to)\n",
      "master.starttime = pd.to_datetime(master.starttime)\n",
      "master.stoptime = pd.to_datetime(master.stoptime)\n",
      "\n",
      "master.tripduration = master.tripduration / 60.0\n",
      "\n",
      "distances = pd.read_csv('https://raw.github.com/alexsoble/divvybrags2/master/station_distances_by_bicycle.csv')\n",
      "\n",
      "master = pd.merge(master, distances, left_on = ['from_station_name','to_station_name'], right_on = ['start_station','end_station'])\n",
      "\n",
      "master.distance = master.distance * .000621371\n",
      "master['avg_speed'] = 60.0 * master.distance / master.tripduration\n",
      "master['gender'][master['gender'].isnull()] = \"Unknown\"\n",
      "\n",
      "master['month'] = master.starttime.map(lambda x: x.month)\n",
      "master['day']   = master.starttime.map(lambda x: x.day)\n",
      "master['hour']  = master.starttime.map(lambda x: x.hour)"
     ],
     "language": "python",
     "metadata": {},
     "outputs": [],
     "prompt_number": 105
    },
    {
     "cell_type": "code",
     "collapsed": false,
     "input": [
      "#I've commented out the code below to save you from the ridiculous runtime of this piece. I needed to get my own developer api key\n",
      "#in order to use this data and it only lets you download one day at a time with no more than 10 API calls a minute.  I only ran\n",
      "#this once and saved the compiled data afterwards.\n",
      "\n",
      "#import json\n",
      "#import urllib2\n",
      "#import time\n",
      "\n",
      "#chicago_wunderground = []\n",
      "\n",
      "#june\n",
      "#for days in range(1,31):\n",
      "#    chicago_wunderground.append(json.load(urllib2.urlopen('http://api.wunderground.com/api/6afcaec3049e80b7/history_201306%02d/q/IL/Chicago.json' % days)))\n",
      "#    time.sleep(6.1)\n",
      "    \n",
      "#july\n",
      "#for days in range(1,32):\n",
      "#    chicago_wunderground.append(json.load(urllib2.urlopen('http://api.wunderground.com/api/6afcaec3049e80b7/history_201307%02d/q/IL/Chicago.json' % days)))\n",
      "#    time.sleep(6.1)\n",
      "\n",
      "#august\n",
      "#for days in range(1,32):\n",
      "#    chicago_wunderground.append(json.load(urllib2.urlopen('http://api.wunderground.com/api/6afcaec3049e80b7/history_201308%02d/q/IL/Chicago.json' % days)))\n",
      "#    time.sleep(6.1)\n",
      "   \n",
      "#september\n",
      "#for days in range(1,31):\n",
      "#    chicago_wunderground.append(json.load(urllib2.urlopen('http://api.wunderground.com/api/6afcaec3049e80b7/history_201309%02d/q/IL/Chicago.json' % days)))\n",
      "#    time.sleep(6.1)\n",
      "   \n",
      "#october\n",
      "#for days in range(1,32):\n",
      "#    chicago_wunderground.append(json.load(urllib2.urlopen('http://api.wunderground.com/api/6afcaec3049e80b7/history_201310%02d/q/IL/Chicago.json' % days)))\n",
      "#    time.sleep(6.1)\n",
      "   \n",
      "#november\n",
      "#for days in range(1,31):\n",
      "#    chicago_wunderground.append(json.load(urllib2.urlopen('http://api.wunderground.com/api/6afcaec3049e80b7/history_201311%02d/q/IL/Chicago.json' % days)))\n",
      "#    time.sleep(6.1)\n",
      "    \n",
      "#december\n",
      "#for days in range(1,32):\n",
      "#    chicago_wunderground.append(json.load(urllib2.urlopen('http://api.wunderground.com/api/6afcaec3049e80b7/history_201312%02d/q/IL/Chicago.json' % days)))\n",
      "#    time.sleep(6.1)"
     ],
     "language": "python",
     "metadata": {},
     "outputs": [],
     "prompt_number": 106
    },
    {
     "cell_type": "code",
     "collapsed": false,
     "input": [
      "#checking import by printing every day's date\n",
      "#for i in chicago_wunderground:\n",
      "#    print i['history']['dailysummary'][0]['date']['pretty']"
     ],
     "language": "python",
     "metadata": {},
     "outputs": [],
     "prompt_number": 107
    },
    {
     "cell_type": "code",
     "collapsed": false,
     "input": [
      "#saving a copy of the data so that I don't ever have to run the above code again\n",
      "#with open(\"./chicago_wunderground.txt\", \"w\") as outfile:\n",
      "#    json.dump(chicago_wunderground, outfile)\n",
      "#eventually I just moved it to github"
     ],
     "language": "python",
     "metadata": {},
     "outputs": [],
     "prompt_number": 108
    },
    {
     "cell_type": "code",
     "collapsed": false,
     "input": [
      "#I import the compiled data\n",
      "import json\n",
      "import urllib2\n",
      "\n",
      "chicago_wunderground = json.load(urllib2.urlopen('https://raw.github.com/gtw/divvyanalysis/master/chicago_wunderground.txt'))"
     ],
     "language": "python",
     "metadata": {},
     "outputs": [],
     "prompt_number": 136
    },
    {
     "cell_type": "code",
     "collapsed": true,
     "input": [
      "#how to access weather data\n",
      "#chicago_wunderground[0]['history']['dailysummary'] contains a summary of the entire day's weather\n",
      "#chicago_wunderground[0]['history']['observations'] is a list of json objects containing hourly weather information"
     ],
     "language": "python",
     "metadata": {},
     "outputs": [],
     "prompt_number": 137
    },
    {
     "cell_type": "code",
     "collapsed": true,
     "input": [
      "date = []\n",
      "day = []\n",
      "month = []\n",
      "hour = []\n",
      "min = []\n",
      "minute = []\n",
      "condition = []\n",
      "hum = []\n",
      "precip = []\n",
      "rain = []\n",
      "snow = []\n",
      "temp = []\n",
      "thunder = []\n",
      "gust = []\n",
      "wind = []\n",
      "d_temp = []\n",
      "d_precip = []\n",
      "d_rain = []\n",
      "d_wind = []\n",
      "\n",
      "for days in chicago_wunderground:\n",
      "    for hours in days['history']['observations']:\n",
      "        date.append(hours['date']['pretty'])\n",
      "        day.append(hours['date']['mday'])\n",
      "        month.append(hours['date']['mon'])\n",
      "        hour.append(hours['date']['hour'])\n",
      "        min.append(hours['date']['min'])       \n",
      "        condition.append(hours['conds'])\n",
      "        hum.append(hours['hum'])\n",
      "        precip.append(hours['precipi'])\n",
      "        rain.append(hours['rain'])\n",
      "        snow.append(hours['snow'])\n",
      "        temp.append(hours['tempi'])\n",
      "        thunder.append(hours['thunder'])\n",
      "        gust.append(hours['wgusti'])\n",
      "        wind.append(hours['wspdi'])\n",
      "        d_temp.append(days['history']['dailysummary'][0]['meantempi'])\n",
      "        d_precip.append(days['history']['dailysummary'][0]['precipi'])\n",
      "        d_rain.append(days['history']['dailysummary'][0]['rain'])\n",
      "        d_wind.append(days['history']['dailysummary'][0]['meanwindspdi'])\n",
      "                            \n",
      "wunder_data = DataFrame([date, day, month, hour, min, condition, hum, precip, rain, snow, temp, thunder, gust, wind, d_temp, d_precip, d_rain, d_wind]).transpose()\n",
      "wunder_data.columns = ['date', 'day', 'month', 'hour', 'min', 'condition','hum','precip','rain','snow','temp','thunder','gust','wind','d_temp','d_precip','d_rain','d_wind']\n",
      "#wunder_data.head(1)"
     ],
     "language": "python",
     "metadata": {},
     "outputs": [],
     "prompt_number": 138
    },
    {
     "cell_type": "code",
     "collapsed": false,
     "input": [
      "#some simple data cleaning steps, either changing types or taking care of missing values\n",
      "wunder_data.d_precip.replace(\"T\", 0, inplace=True)\n",
      "wunder_data[['precip','temp','gust','wind','d_temp','d_precip','d_rain','d_wind']] = wunder_data[['precip','temp','gust','wind','d_temp','d_precip','d_rain','d_wind']].astype(float)\n",
      "wunder_data.hum[wunder_data.hum == \"N/A\"] = NaN\n",
      "wunder_data[['day','month','hour','min']] = wunder_data[['day','month','hour','min']].astype(int)\n",
      "wunder_data[['hum', 'rain', 'snow', 'thunder']] = wunder_data[['hum', 'rain', 'snow', 'thunder']].astype(float)\n",
      "wunder_data = wunder_data.replace(-9999.0,NaN)\n",
      "wunder_data.precip.replace(NaN, 0, inplace=True)\n",
      "wunder_data.d_precip.replace(NaN, 0, inplace =True)\n",
      "#wunder_data.dtypes\n",
      "#wunder_data.describe()"
     ],
     "language": "python",
     "metadata": {},
     "outputs": [],
     "prompt_number": 139
    },
    {
     "cell_type": "code",
     "collapsed": false,
     "input": [
      "#shows that there's no times that have a day and month and hour duplicated that doesn't have a 51, we only will keep 51s\n",
      "\n",
      "#wunder_data['min'].replace(51,70,inplace=True)\n",
      "#wunder_data_dup = wunder_data[wunder_data.sort(['day','month','hour','min']).duplicated(['day','month','hour'])][['day','month','hour','min']]\n",
      "#wunder_data_dup['ones'] = 1\n",
      "#wunder_pivot = wunder_data_dup.pivot_table(rows = ['day','month','hour'], cols = ['min'], values = ['ones'])\n",
      "#wunder_pivot['ones'][70].replace(NaN,0)\n",
      "#wunder_pivot[wunder_pivot['ones'][70] != 1]\n",
      "\n",
      "wunder_data = wunder_data[wunder_data['min'] == 51]\n",
      "wunder_data.drop(['date','min'],1,inplace=True)\n",
      "\n",
      "#wunder_data.head()"
     ],
     "language": "python",
     "metadata": {},
     "outputs": [],
     "prompt_number": 140
    },
    {
     "cell_type": "code",
     "collapsed": false,
     "input": [
      "#appears rain and snow are not perfect indicators\n",
      "#wunder_data.rain[wunder_data.precip > 0].describe()\n",
      "#wunder_data[(wunder_data.rain == 0) & (wunder_data.snow == 0) & (wunder_data.precip > 0)]['condition'].value_counts()"
     ],
     "language": "python",
     "metadata": {},
     "outputs": [],
     "prompt_number": 114
    },
    {
     "cell_type": "code",
     "collapsed": false,
     "input": [
      "#importing the ols model (linear regression) and creating a simple function to prepare my data for regressions\n",
      "from pandas.stats.api import ols\n",
      "\n",
      "master['rides'] = 1\n",
      "\n",
      "def prep_reg_data(data):\n",
      "\n",
      "    collapse = data.pivot_table(rows = ['day','month','hour'], values = ['tripduration','distance','avg_speed','rides'], aggfunc = [np.mean,np.sum])\n",
      "    collapse = collapse.reset_index()\n",
      "    collapse = collapse.sort(['month','day','hour'])\n",
      "    collapse.columns = [' '.join(col).strip() for col in collapse.columns.values]\n",
      "    collapse_wunder = pd.merge(collapse, wunder_data, how = 'outer', on=['month','day','hour'], sort = True)\n",
      "    \n",
      "    return collapse_wunder[collapse_wunder.month >= 7].drop(['mean rides','sum avg_speed','sum tripduration'],1)"
     ],
     "language": "python",
     "metadata": {},
     "outputs": [],
     "prompt_number": 141
    },
    {
     "cell_type": "code",
     "collapsed": false,
     "input": [
      "master_reasonable = master[\n",
      "                (master.avg_speed < 25) &\n",
      "                (master.tripduration < 120) & \n",
      "                (master.distance > 0)]\n",
      "\n",
      "reg_all = prep_reg_data(master_reasonable)\n",
      "\n",
      "#All Users Total Rides\n",
      "reg_results = ols(y=reg_all['sum rides'], x=reg_all[['precip','d_precip','rain','d_rain']])\n",
      "reg_results"
     ],
     "language": "python",
     "metadata": {},
     "outputs": [
      {
       "metadata": {},
       "output_type": "pyout",
       "prompt_number": 142,
       "text": [
        "\n",
        "-------------------------Summary of Regression Analysis-------------------------\n",
        "\n",
        "Formula: Y ~ <precip> + <d_precip> + <rain> + <d_rain> + <intercept>\n",
        "\n",
        "Number of Observations:         4365\n",
        "Number of Degrees of Freedom:   5\n",
        "\n",
        "R-squared:         0.0072\n",
        "Adj R-squared:     0.0063\n",
        "\n",
        "Rmse:            177.6667\n",
        "\n",
        "F-stat (4, 4360):     7.9117, p-value:     0.0000\n",
        "\n",
        "Degrees of Freedom: model 4, resid 4360\n",
        "\n",
        "-----------------------Summary of Estimated Coefficients------------------------\n",
        "      Variable       Coef    Std Err     t-stat    p-value    CI 2.5%   CI 97.5%\n",
        "--------------------------------------------------------------------------------\n",
        "        precip  -140.0427   119.8062      -1.17     0.2425  -374.8629    94.7775\n",
        "      d_precip   -11.8431    13.8125      -0.86     0.3913   -38.9156    15.2294\n",
        "          rain   -35.4520    15.3919      -2.30     0.0213   -65.6202    -5.2839\n",
        "        d_rain   -15.5448     6.7516      -2.30     0.0214   -28.7779    -2.3116\n",
        "     intercept   167.7196     3.2100      52.25     0.0000   161.4279   174.0113\n",
        "---------------------------------End of Summary---------------------------------\n"
       ]
      }
     ],
     "prompt_number": 142
    },
    {
     "cell_type": "code",
     "collapsed": false,
     "input": [
      "#All Users Average Distance\n",
      "reg_results = ols(y=reg_all['mean distance'], x=reg_all[['precip','d_precip','rain','d_rain']])\n",
      "reg_results"
     ],
     "language": "python",
     "metadata": {},
     "outputs": [
      {
       "metadata": {},
       "output_type": "pyout",
       "prompt_number": 117,
       "text": [
        "\n",
        "-------------------------Summary of Regression Analysis-------------------------\n",
        "\n",
        "Formula: Y ~ <precip> + <d_precip> + <rain> + <d_rain> + <intercept>\n",
        "\n",
        "Number of Observations:         4365\n",
        "Number of Degrees of Freedom:   5\n",
        "\n",
        "R-squared:         0.0115\n",
        "Adj R-squared:     0.0106\n",
        "\n",
        "Rmse:              0.3811\n",
        "\n",
        "F-stat (4, 4360):    12.6684, p-value:     0.0000\n",
        "\n",
        "Degrees of Freedom: model 4, resid 4360\n",
        "\n",
        "-----------------------Summary of Estimated Coefficients------------------------\n",
        "      Variable       Coef    Std Err     t-stat    p-value    CI 2.5%   CI 97.5%\n",
        "--------------------------------------------------------------------------------\n",
        "        precip     0.7364     0.2570       2.87     0.0042     0.2327     1.2401\n",
        "      d_precip    -0.0104     0.0296      -0.35     0.7245    -0.0685     0.0476\n",
        "          rain    -0.2022     0.0330      -6.12     0.0000    -0.2669    -0.1375\n",
        "        d_rain    -0.0171     0.0145      -1.18     0.2368    -0.0455     0.0112\n",
        "     intercept     1.6477     0.0069     239.29     0.0000     1.6342     1.6612\n",
        "---------------------------------End of Summary---------------------------------\n"
       ]
      }
     ],
     "prompt_number": 117
    },
    {
     "cell_type": "code",
     "collapsed": false,
     "input": [
      "#All Users Average Duration\n",
      "reg_results = ols(y=reg_all['mean tripduration'], x=reg_all[['precip','d_precip','rain','d_rain']])\n",
      "reg_results"
     ],
     "language": "python",
     "metadata": {},
     "outputs": [
      {
       "metadata": {},
       "output_type": "pyout",
       "prompt_number": 118,
       "text": [
        "\n",
        "-------------------------Summary of Regression Analysis-------------------------\n",
        "\n",
        "Formula: Y ~ <precip> + <d_precip> + <rain> + <d_rain> + <intercept>\n",
        "\n",
        "Number of Observations:         4365\n",
        "Number of Degrees of Freedom:   5\n",
        "\n",
        "R-squared:         0.0144\n",
        "Adj R-squared:     0.0135\n",
        "\n",
        "Rmse:              5.8963\n",
        "\n",
        "F-stat (4, 4360):    15.8835, p-value:     0.0000\n",
        "\n",
        "Degrees of Freedom: model 4, resid 4360\n",
        "\n",
        "-----------------------Summary of Estimated Coefficients------------------------\n",
        "      Variable       Coef    Std Err     t-stat    p-value    CI 2.5%   CI 97.5%\n",
        "--------------------------------------------------------------------------------\n",
        "        precip     4.5532     3.9761       1.15     0.2522    -3.2399    12.3463\n",
        "      d_precip    -0.5875     0.4584      -1.28     0.2001    -1.4860     0.3110\n",
        "          rain    -2.8848     0.5108      -5.65     0.0000    -3.8860    -1.8835\n",
        "        d_rain    -0.4395     0.2241      -1.96     0.0499    -0.8787    -0.0003\n",
        "     intercept    15.4549     0.1065     145.07     0.0000    15.2461    15.6638\n",
        "---------------------------------End of Summary---------------------------------\n"
       ]
      }
     ],
     "prompt_number": 118
    },
    {
     "cell_type": "code",
     "collapsed": false,
     "input": [
      "#All Users Average Speed\n",
      "reg_results = ols(y=reg_all['mean avg_speed'], x=reg_all[['precip','d_precip','rain','d_rain']])\n",
      "reg_results"
     ],
     "language": "python",
     "metadata": {},
     "outputs": [
      {
       "metadata": {},
       "output_type": "pyout",
       "prompt_number": 119,
       "text": [
        "\n",
        "-------------------------Summary of Regression Analysis-------------------------\n",
        "\n",
        "Formula: Y ~ <precip> + <d_precip> + <rain> + <d_rain> + <intercept>\n",
        "\n",
        "Number of Observations:         4365\n",
        "Number of Degrees of Freedom:   5\n",
        "\n",
        "R-squared:         0.0099\n",
        "Adj R-squared:     0.0090\n",
        "\n",
        "Rmse:              1.3538\n",
        "\n",
        "F-stat (4, 4360):    10.8872, p-value:     0.0000\n",
        "\n",
        "Degrees of Freedom: model 4, resid 4360\n",
        "\n",
        "-----------------------Summary of Estimated Coefficients------------------------\n",
        "      Variable       Coef    Std Err     t-stat    p-value    CI 2.5%   CI 97.5%\n",
        "--------------------------------------------------------------------------------\n",
        "        precip     0.2259     0.9129       0.25     0.8046    -1.5633     2.0151\n",
        "      d_precip     0.1449     0.1052       1.38     0.1686    -0.0614     0.3512\n",
        "          rain     0.4136     0.1173       3.53     0.0004     0.1838     0.6435\n",
        "        d_rain     0.1127     0.0514       2.19     0.0285     0.0119     0.2135\n",
        "     intercept     7.5408     0.0245     308.30     0.0000     7.4928     7.5887\n",
        "---------------------------------End of Summary---------------------------------\n"
       ]
      }
     ],
     "prompt_number": 119
    },
    {
     "cell_type": "code",
     "collapsed": false,
     "input": [
      "master_reasonable_cust = master[\n",
      "                (master.avg_speed < 25) &\n",
      "                (master.tripduration < 120) & \n",
      "                (master.distance > 0) &\n",
      "                (master.usertype == \"Customer\")]\n",
      "\n",
      "reg_cust = prep_reg_data(master_reasonable_cust)\n",
      "\n",
      "#Customers Total Trips\n",
      "reg_results = ols(y=reg_cust['sum rides'], x=reg_cust[['precip','d_precip','rain','d_rain']])\n",
      "reg_results"
     ],
     "language": "python",
     "metadata": {},
     "outputs": [
      {
       "metadata": {},
       "output_type": "pyout",
       "prompt_number": 120,
       "text": [
        "\n",
        "-------------------------Summary of Regression Analysis-------------------------\n",
        "\n",
        "Formula: Y ~ <precip> + <d_precip> + <rain> + <d_rain> + <intercept>\n",
        "\n",
        "Number of Observations:         4083\n",
        "Number of Degrees of Freedom:   5\n",
        "\n",
        "R-squared:         0.0154\n",
        "Adj R-squared:     0.0145\n",
        "\n",
        "Rmse:            111.4886\n",
        "\n",
        "F-stat (4, 4078):    15.9837, p-value:     0.0000\n",
        "\n",
        "Degrees of Freedom: model 4, resid 4078\n",
        "\n",
        "-----------------------Summary of Estimated Coefficients------------------------\n",
        "      Variable       Coef    Std Err     t-stat    p-value    CI 2.5%   CI 97.5%\n",
        "--------------------------------------------------------------------------------\n",
        "        precip    17.1623    82.3007       0.21     0.8348  -144.1470   178.4716\n",
        "      d_precip    -6.1536     8.8356      -0.70     0.4862   -23.4713    11.1642\n",
        "          rain   -31.9316     9.8777      -3.23     0.0012   -51.2918   -12.5713\n",
        "        d_rain   -20.9828     4.3509      -4.82     0.0000   -29.5105   -12.4550\n",
        "     intercept    84.5313     2.0944      40.36     0.0000    80.4262    88.6363\n",
        "---------------------------------End of Summary---------------------------------\n"
       ]
      }
     ],
     "prompt_number": 120
    },
    {
     "cell_type": "code",
     "collapsed": false,
     "input": [
      "#Customers Average Distance\n",
      "reg_results = ols(y=reg_cust['mean distance'], x=reg_cust[['precip','d_precip','rain','d_rain']])\n",
      "reg_results"
     ],
     "language": "python",
     "metadata": {},
     "outputs": [
      {
       "metadata": {},
       "output_type": "pyout",
       "prompt_number": 121,
       "text": [
        "\n",
        "-------------------------Summary of Regression Analysis-------------------------\n",
        "\n",
        "Formula: Y ~ <precip> + <d_precip> + <rain> + <d_rain> + <intercept>\n",
        "\n",
        "Number of Observations:         4083\n",
        "Number of Degrees of Freedom:   5\n",
        "\n",
        "R-squared:         0.0053\n",
        "Adj R-squared:     0.0043\n",
        "\n",
        "Rmse:              0.5075\n",
        "\n",
        "F-stat (4, 4078):     5.4189, p-value:     0.0002\n",
        "\n",
        "Degrees of Freedom: model 4, resid 4078\n",
        "\n",
        "-----------------------Summary of Estimated Coefficients------------------------\n",
        "      Variable       Coef    Std Err     t-stat    p-value    CI 2.5%   CI 97.5%\n",
        "--------------------------------------------------------------------------------\n",
        "        precip    -0.3714     0.3746      -0.99     0.3215    -1.1057     0.3629\n",
        "      d_precip     0.0112     0.0402       0.28     0.7815    -0.0677     0.0900\n",
        "          rain    -0.1220     0.0450      -2.71     0.0067    -0.2101    -0.0339\n",
        "        d_rain    -0.0359     0.0198      -1.81     0.0700    -0.0747     0.0029\n",
        "     intercept     1.8614     0.0095     195.25     0.0000     1.8427     1.8801\n",
        "---------------------------------End of Summary---------------------------------\n"
       ]
      }
     ],
     "prompt_number": 121
    },
    {
     "cell_type": "code",
     "collapsed": false,
     "input": [
      "#Customers Average Duration\n",
      "reg_results = ols(y=reg_cust['mean tripduration'], x=reg_cust[['precip','d_precip','rain','d_rain']])\n",
      "reg_results"
     ],
     "language": "python",
     "metadata": {},
     "outputs": [
      {
       "metadata": {},
       "output_type": "pyout",
       "prompt_number": 122,
       "text": [
        "\n",
        "-------------------------Summary of Regression Analysis-------------------------\n",
        "\n",
        "Formula: Y ~ <precip> + <d_precip> + <rain> + <d_rain> + <intercept>\n",
        "\n",
        "Number of Observations:         4083\n",
        "Number of Degrees of Freedom:   5\n",
        "\n",
        "R-squared:         0.0086\n",
        "Adj R-squared:     0.0076\n",
        "\n",
        "Rmse:              6.9222\n",
        "\n",
        "F-stat (4, 4078):     8.8319, p-value:     0.0000\n",
        "\n",
        "Degrees of Freedom: model 4, resid 4078\n",
        "\n",
        "-----------------------Summary of Estimated Coefficients------------------------\n",
        "      Variable       Coef    Std Err     t-stat    p-value    CI 2.5%   CI 97.5%\n",
        "--------------------------------------------------------------------------------\n",
        "        precip    -2.9372     5.1100      -0.57     0.5655   -12.9527     7.0784\n",
        "      d_precip    -0.1928     0.5486      -0.35     0.7252    -1.2681     0.8824\n",
        "          rain    -2.1122     0.6133      -3.44     0.0006    -3.3143    -0.9101\n",
        "        d_rain    -0.6248     0.2701      -2.31     0.0208    -1.1543    -0.0954\n",
        "     intercept    20.2898     0.1300     156.03     0.0000    20.0350    20.5447\n",
        "---------------------------------End of Summary---------------------------------\n"
       ]
      }
     ],
     "prompt_number": 122
    },
    {
     "cell_type": "code",
     "collapsed": false,
     "input": [
      "#Customers Average Speed\n",
      "reg_results = ols(y=reg_cust['mean avg_speed'], x=reg_cust[['precip','d_precip','rain','d_rain']])\n",
      "reg_results"
     ],
     "language": "python",
     "metadata": {},
     "outputs": [
      {
       "metadata": {},
       "output_type": "pyout",
       "prompt_number": 123,
       "text": [
        "\n",
        "-------------------------Summary of Regression Analysis-------------------------\n",
        "\n",
        "Formula: Y ~ <precip> + <d_precip> + <rain> + <d_rain> + <intercept>\n",
        "\n",
        "Number of Observations:         4083\n",
        "Number of Degrees of Freedom:   5\n",
        "\n",
        "R-squared:         0.0026\n",
        "Adj R-squared:     0.0016\n",
        "\n",
        "Rmse:              1.5828\n",
        "\n",
        "F-stat (4, 4078):     2.6849, p-value:     0.0298\n",
        "\n",
        "Degrees of Freedom: model 4, resid 4078\n",
        "\n",
        "-----------------------Summary of Estimated Coefficients------------------------\n",
        "      Variable       Coef    Std Err     t-stat    p-value    CI 2.5%   CI 97.5%\n",
        "--------------------------------------------------------------------------------\n",
        "        precip    -0.3701     1.1684      -0.32     0.7514    -2.6602     1.9199\n",
        "      d_precip     0.0741     0.1254       0.59     0.5546    -0.1717     0.3200\n",
        "          rain     0.1844     0.1402       1.32     0.1886    -0.0904     0.4593\n",
        "        d_rain     0.1134     0.0618       1.84     0.0664    -0.0076     0.2345\n",
        "     intercept     6.4893     0.0297     218.25     0.0000     6.4310     6.5476\n",
        "---------------------------------End of Summary---------------------------------\n"
       ]
      }
     ],
     "prompt_number": 123
    },
    {
     "cell_type": "code",
     "collapsed": false,
     "input": [
      "master_reasonable_sub = master[\n",
      "                (master.avg_speed < 25) &\n",
      "                (master.tripduration < 120) & \n",
      "                (master.distance > 0) &\n",
      "                (master.usertype == \"Subscriber\")]\n",
      "\n",
      "reg_sub = prep_reg_data(master_reasonable_sub)\n",
      "\n",
      "#Subscribers Total Trips\n",
      "reg_results = ols(y=reg_sub['sum rides'], x=reg_sub[['precip','d_precip','rain','d_rain']])\n",
      "reg_results"
     ],
     "language": "python",
     "metadata": {},
     "outputs": [
      {
       "metadata": {},
       "output_type": "pyout",
       "prompt_number": 124,
       "text": [
        "\n",
        "-------------------------Summary of Regression Analysis-------------------------\n",
        "\n",
        "Formula: Y ~ <precip> + <d_precip> + <rain> + <d_rain> + <intercept>\n",
        "\n",
        "Number of Observations:         4276\n",
        "Number of Degrees of Freedom:   5\n",
        "\n",
        "R-squared:         0.0020\n",
        "Adj R-squared:     0.0011\n",
        "\n",
        "Rmse:            109.6437\n",
        "\n",
        "F-stat (4, 4271):     2.1771, p-value:     0.0690\n",
        "\n",
        "Degrees of Freedom: model 4, resid 4271\n",
        "\n",
        "-----------------------Summary of Estimated Coefficients------------------------\n",
        "      Variable       Coef    Std Err     t-stat    p-value    CI 2.5%   CI 97.5%\n",
        "--------------------------------------------------------------------------------\n",
        "        precip  -142.9227    73.9848      -1.93     0.0535  -287.9330     2.0875\n",
        "      d_precip    -5.7765     8.5794      -0.67     0.5008   -22.5922    11.0391\n",
        "          rain    -6.0178     9.5396      -0.63     0.5282   -24.7155    12.6799\n",
        "        d_rain     1.1846     4.2063       0.28     0.7783    -7.0598     9.4289\n",
        "     intercept    91.4972     2.0027      45.69     0.0000    87.5719    95.4225\n",
        "---------------------------------End of Summary---------------------------------\n"
       ]
      }
     ],
     "prompt_number": 124
    },
    {
     "cell_type": "code",
     "collapsed": false,
     "input": [
      "#Subscribers Average Distance\n",
      "reg_results = ols(y=reg_sub['mean distance'], x=reg_sub[['precip','d_precip','rain','d_rain']])\n",
      "reg_results"
     ],
     "language": "python",
     "metadata": {},
     "outputs": [
      {
       "metadata": {},
       "output_type": "pyout",
       "prompt_number": 125,
       "text": [
        "\n",
        "-------------------------Summary of Regression Analysis-------------------------\n",
        "\n",
        "Formula: Y ~ <precip> + <d_precip> + <rain> + <d_rain> + <intercept>\n",
        "\n",
        "Number of Observations:         4276\n",
        "Number of Degrees of Freedom:   5\n",
        "\n",
        "R-squared:         0.0087\n",
        "Adj R-squared:     0.0078\n",
        "\n",
        "Rmse:              0.3748\n",
        "\n",
        "F-stat (4, 4271):     9.3992, p-value:     0.0000\n",
        "\n",
        "Degrees of Freedom: model 4, resid 4271\n",
        "\n",
        "-----------------------Summary of Estimated Coefficients------------------------\n",
        "      Variable       Coef    Std Err     t-stat    p-value    CI 2.5%   CI 97.5%\n",
        "--------------------------------------------------------------------------------\n",
        "        precip     0.8688     0.2529       3.44     0.0006     0.3731     1.3645\n",
        "      d_precip    -0.0326     0.0293      -1.11     0.2669    -0.0901     0.0249\n",
        "          rain    -0.1729     0.0326      -5.30     0.0000    -0.2368    -0.1089\n",
        "        d_rain    -0.0006     0.0144      -0.04     0.9684    -0.0288     0.0276\n",
        "     intercept     1.5155     0.0068     221.36     0.0000     1.5020     1.5289\n",
        "---------------------------------End of Summary---------------------------------\n"
       ]
      }
     ],
     "prompt_number": 125
    },
    {
     "cell_type": "code",
     "collapsed": false,
     "input": [
      "#Subscribers Average Duration\n",
      "reg_results = ols(y=reg_sub['mean tripduration'], x=reg_sub[['precip','d_precip','rain','d_rain']])\n",
      "reg_results"
     ],
     "language": "python",
     "metadata": {},
     "outputs": [
      {
       "metadata": {},
       "output_type": "pyout",
       "prompt_number": 126,
       "text": [
        "\n",
        "-------------------------Summary of Regression Analysis-------------------------\n",
        "\n",
        "Formula: Y ~ <precip> + <d_precip> + <rain> + <d_rain> + <intercept>\n",
        "\n",
        "Number of Observations:         4276\n",
        "Number of Degrees of Freedom:   5\n",
        "\n",
        "R-squared:         0.0131\n",
        "Adj R-squared:     0.0122\n",
        "\n",
        "Rmse:              2.8052\n",
        "\n",
        "F-stat (4, 4271):    14.1809, p-value:     0.0000\n",
        "\n",
        "Degrees of Freedom: model 4, resid 4271\n",
        "\n",
        "-----------------------Summary of Estimated Coefficients------------------------\n",
        "      Variable       Coef    Std Err     t-stat    p-value    CI 2.5%   CI 97.5%\n",
        "--------------------------------------------------------------------------------\n",
        "        precip     4.5382     1.8929       2.40     0.0166     0.8281     8.2483\n",
        "      d_precip    -0.4026     0.2195      -1.83     0.0667    -0.8328     0.0276\n",
        "          rain    -1.3829     0.2441      -5.67     0.0000    -1.8613    -0.9046\n",
        "        d_rain    -0.1253     0.1076      -1.16     0.2443    -0.3362     0.0856\n",
        "     intercept    11.2398     0.0512     219.36     0.0000    11.1393    11.3402\n",
        "---------------------------------End of Summary---------------------------------\n"
       ]
      }
     ],
     "prompt_number": 126
    },
    {
     "cell_type": "code",
     "collapsed": false,
     "input": [
      "#Subscribers Average Speed\n",
      "reg_results = ols(y=reg_sub['mean avg_speed'], x=reg_sub[['precip','d_precip','rain','d_rain']])\n",
      "reg_results"
     ],
     "language": "python",
     "metadata": {},
     "outputs": [
      {
       "metadata": {},
       "output_type": "pyout",
       "prompt_number": 127,
       "text": [
        "\n",
        "-------------------------Summary of Regression Analysis-------------------------\n",
        "\n",
        "Formula: Y ~ <precip> + <d_precip> + <rain> + <d_rain> + <intercept>\n",
        "\n",
        "Number of Observations:         4276\n",
        "Number of Degrees of Freedom:   5\n",
        "\n",
        "R-squared:         0.0039\n",
        "Adj R-squared:     0.0029\n",
        "\n",
        "Rmse:              1.1638\n",
        "\n",
        "F-stat (4, 4271):     4.1617, p-value:     0.0023\n",
        "\n",
        "Degrees of Freedom: model 4, resid 4271\n",
        "\n",
        "-----------------------Summary of Estimated Coefficients------------------------\n",
        "      Variable       Coef    Std Err     t-stat    p-value    CI 2.5%   CI 97.5%\n",
        "--------------------------------------------------------------------------------\n",
        "        precip     0.8356     0.7853       1.06     0.2874    -0.7037     2.3748\n",
        "      d_precip     0.0706     0.0911       0.78     0.4381    -0.1079     0.2491\n",
        "          rain     0.1295     0.1013       1.28     0.2010    -0.0690     0.3280\n",
        "        d_rain     0.0781     0.0446       1.75     0.0802    -0.0094     0.1656\n",
        "     intercept     8.4491     0.0213     397.46     0.0000     8.4075     8.4908\n",
        "---------------------------------End of Summary---------------------------------\n"
       ]
      }
     ],
     "prompt_number": 127
    },
    {
     "cell_type": "code",
     "collapsed": false,
     "input": [
      "master_reasonable_sub_f = master[\n",
      "                (master.avg_speed < 25) &\n",
      "                (master.tripduration < 120) & \n",
      "                (master.distance > 0) &\n",
      "                (master.usertype == \"Subscriber\") &\n",
      "                (master.gender == \"Female\")]\n",
      "\n",
      "reg_female = prep_reg_data(master_reasonable_sub_f)\n",
      "\n",
      "#Female Total Trips\n",
      "reg_results = ols(y=reg_female['sum rides'], x=reg_female[['precip','d_precip','rain','d_rain']])\n",
      "reg_results"
     ],
     "language": "python",
     "metadata": {},
     "outputs": [
      {
       "metadata": {},
       "output_type": "pyout",
       "prompt_number": 128,
       "text": [
        "\n",
        "-------------------------Summary of Regression Analysis-------------------------\n",
        "\n",
        "Formula: Y ~ <precip> + <d_precip> + <rain> + <d_rain> + <intercept>\n",
        "\n",
        "Number of Observations:         3754\n",
        "Number of Degrees of Freedom:   5\n",
        "\n",
        "R-squared:         0.0044\n",
        "Adj R-squared:     0.0034\n",
        "\n",
        "Rmse:             23.8744\n",
        "\n",
        "F-stat (4, 3749):     4.1691, p-value:     0.0023\n",
        "\n",
        "Degrees of Freedom: model 4, resid 3749\n",
        "\n",
        "-----------------------Summary of Estimated Coefficients------------------------\n",
        "      Variable       Coef    Std Err     t-stat    p-value    CI 2.5%   CI 97.5%\n",
        "--------------------------------------------------------------------------------\n",
        "        precip   -23.2957    17.2914      -1.35     0.1780   -57.1869    10.5955\n",
        "      d_precip    -2.4771     1.9835      -1.25     0.2118    -6.3648     1.4105\n",
        "          rain    -4.0161     2.1423      -1.87     0.0609    -8.2150     0.1828\n",
        "        d_rain    -0.2328     0.9829      -0.24     0.8128    -2.1593     1.6937\n",
        "     intercept    22.1336     0.4656      47.54     0.0000    21.2211    23.0462\n",
        "---------------------------------End of Summary---------------------------------\n"
       ]
      }
     ],
     "prompt_number": 128
    },
    {
     "cell_type": "code",
     "collapsed": false,
     "input": [
      "#Female Average Distance\n",
      "reg_results = ols(y=reg_female['mean distance'], x=reg_female[['precip','d_precip','rain','d_rain']])\n",
      "reg_results"
     ],
     "language": "python",
     "metadata": {},
     "outputs": [
      {
       "metadata": {},
       "output_type": "pyout",
       "prompt_number": 129,
       "text": [
        "\n",
        "-------------------------Summary of Regression Analysis-------------------------\n",
        "\n",
        "Formula: Y ~ <precip> + <d_precip> + <rain> + <d_rain> + <intercept>\n",
        "\n",
        "Number of Observations:         3754\n",
        "Number of Degrees of Freedom:   5\n",
        "\n",
        "R-squared:         0.0064\n",
        "Adj R-squared:     0.0054\n",
        "\n",
        "Rmse:              0.5232\n",
        "\n",
        "F-stat (4, 3749):     6.0845, p-value:     0.0001\n",
        "\n",
        "Degrees of Freedom: model 4, resid 3749\n",
        "\n",
        "-----------------------Summary of Estimated Coefficients------------------------\n",
        "      Variable       Coef    Std Err     t-stat    p-value    CI 2.5%   CI 97.5%\n",
        "--------------------------------------------------------------------------------\n",
        "        precip     0.0325     0.3789       0.09     0.9316    -0.7101     0.7752\n",
        "      d_precip    -0.0624     0.0435      -1.43     0.1515    -0.1475     0.0228\n",
        "          rain    -0.1831     0.0469      -3.90     0.0001    -0.2751    -0.0911\n",
        "        d_rain     0.0227     0.0215       1.05     0.2930    -0.0196     0.0649\n",
        "     intercept     1.6044     0.0102     157.26     0.0000     1.5844     1.6244\n",
        "---------------------------------End of Summary---------------------------------\n"
       ]
      }
     ],
     "prompt_number": 129
    },
    {
     "cell_type": "code",
     "collapsed": false,
     "input": [
      "#Female Average Duration\n",
      "reg_results = ols(y=reg_female['mean tripduration'], x=reg_female[['precip','d_precip','rain','d_rain']])\n",
      "reg_results"
     ],
     "language": "python",
     "metadata": {},
     "outputs": [
      {
       "metadata": {},
       "output_type": "pyout",
       "prompt_number": 130,
       "text": [
        "\n",
        "-------------------------Summary of Regression Analysis-------------------------\n",
        "\n",
        "Formula: Y ~ <precip> + <d_precip> + <rain> + <d_rain> + <intercept>\n",
        "\n",
        "Number of Observations:         3754\n",
        "Number of Degrees of Freedom:   5\n",
        "\n",
        "R-squared:         0.0096\n",
        "Adj R-squared:     0.0085\n",
        "\n",
        "Rmse:              4.0534\n",
        "\n",
        "F-stat (4, 3749):     9.0617, p-value:     0.0000\n",
        "\n",
        "Degrees of Freedom: model 4, resid 3749\n",
        "\n",
        "-----------------------Summary of Estimated Coefficients------------------------\n",
        "      Variable       Coef    Std Err     t-stat    p-value    CI 2.5%   CI 97.5%\n",
        "--------------------------------------------------------------------------------\n",
        "        precip     1.5256     2.9357       0.52     0.6033    -4.2285     7.2796\n",
        "      d_precip    -0.6443     0.3368      -1.91     0.0558    -1.3043     0.0158\n",
        "          rain    -1.6800     0.3637      -4.62     0.0000    -2.3929    -0.9671\n",
        "        d_rain     0.1008     0.1669       0.60     0.5460    -0.2263     0.4278\n",
        "     intercept    12.7543     0.0790     161.35     0.0000    12.5994    12.9093\n",
        "---------------------------------End of Summary---------------------------------\n"
       ]
      }
     ],
     "prompt_number": 130
    },
    {
     "cell_type": "code",
     "collapsed": false,
     "input": [
      "#Female Average Speed\n",
      "reg_results = ols(y=reg_female['mean avg_speed'], x=reg_female[['precip','d_precip','rain','d_rain']])\n",
      "reg_results"
     ],
     "language": "python",
     "metadata": {},
     "outputs": [
      {
       "metadata": {},
       "output_type": "pyout",
       "prompt_number": 131,
       "text": [
        "\n",
        "-------------------------Summary of Regression Analysis-------------------------\n",
        "\n",
        "Formula: Y ~ <precip> + <d_precip> + <rain> + <d_rain> + <intercept>\n",
        "\n",
        "Number of Observations:         3754\n",
        "Number of Degrees of Freedom:   5\n",
        "\n",
        "R-squared:         0.0021\n",
        "Adj R-squared:     0.0010\n",
        "\n",
        "Rmse:              1.3395\n",
        "\n",
        "F-stat (4, 3749):     1.9411, p-value:     0.1008\n",
        "\n",
        "Degrees of Freedom: model 4, resid 3749\n",
        "\n",
        "-----------------------Summary of Estimated Coefficients------------------------\n",
        "      Variable       Coef    Std Err     t-stat    p-value    CI 2.5%   CI 97.5%\n",
        "--------------------------------------------------------------------------------\n",
        "        precip    -0.8882     0.9701      -0.92     0.3600    -2.7897     1.0133\n",
        "      d_precip     0.0444     0.1113       0.40     0.6899    -0.1737     0.2625\n",
        "          rain     0.0491     0.1202       0.41     0.6828    -0.1865     0.2847\n",
        "        d_rain     0.1152     0.0551       2.09     0.0368     0.0071     0.2233\n",
        "     intercept     7.7651     0.0261     297.27     0.0000     7.7139     7.8163\n",
        "---------------------------------End of Summary---------------------------------\n"
       ]
      }
     ],
     "prompt_number": 131
    },
    {
     "cell_type": "code",
     "collapsed": false,
     "input": [
      "master_reasonable_sub_m = master[\n",
      "                (master.avg_speed < 25) &\n",
      "                (master.tripduration < 120) & \n",
      "                (master.distance > 0) &\n",
      "                (master.usertype == \"Subscriber\") &\n",
      "                (master.gender == \"Male\")]\n",
      "\n",
      "reg_male = prep_reg_data(master_reasonable_sub_m)\n",
      "\n",
      "#Male Total Trips\n",
      "reg_results = ols(y=reg_male['sum rides'], x=reg_male[['precip','d_precip','rain','d_rain']])\n",
      "reg_results"
     ],
     "language": "python",
     "metadata": {},
     "outputs": [
      {
       "metadata": {},
       "output_type": "pyout",
       "prompt_number": 132,
       "text": [
        "\n",
        "-------------------------Summary of Regression Analysis-------------------------\n",
        "\n",
        "Formula: Y ~ <precip> + <d_precip> + <rain> + <d_rain> + <intercept>\n",
        "\n",
        "Number of Observations:         4248\n",
        "Number of Degrees of Freedom:   5\n",
        "\n",
        "R-squared:         0.0019\n",
        "Adj R-squared:     0.0010\n",
        "\n",
        "Rmse:             87.2912\n",
        "\n",
        "F-stat (4, 4243):     2.0149, p-value:     0.0896\n",
        "\n",
        "Degrees of Freedom: model 4, resid 4243\n",
        "\n",
        "-----------------------Summary of Estimated Coefficients------------------------\n",
        "      Variable       Coef    Std Err     t-stat    p-value    CI 2.5%   CI 97.5%\n",
        "--------------------------------------------------------------------------------\n",
        "        precip  -119.6882    58.9209      -2.03     0.0423  -235.1732    -4.2032\n",
        "      d_precip    -3.2095     6.8578      -0.47     0.6398   -16.6508    10.2317\n",
        "          rain    -4.2098     7.5998      -0.55     0.5797   -19.1054    10.6858\n",
        "        d_rain     1.3878     3.3568       0.41     0.6793    -5.1915     7.9671\n",
        "     intercept    72.5816     1.6000      45.36     0.0000    69.4455    75.7177\n",
        "---------------------------------End of Summary---------------------------------\n"
       ]
      }
     ],
     "prompt_number": 132
    },
    {
     "cell_type": "code",
     "collapsed": false,
     "input": [
      "#Male Average Distance\n",
      "reg_results = ols(y=reg_male['mean distance'], x=reg_male[['precip','d_precip','rain','d_rain']])\n",
      "reg_results"
     ],
     "language": "python",
     "metadata": {},
     "outputs": [
      {
       "metadata": {},
       "output_type": "pyout",
       "prompt_number": 133,
       "text": [
        "\n",
        "-------------------------Summary of Regression Analysis-------------------------\n",
        "\n",
        "Formula: Y ~ <precip> + <d_precip> + <rain> + <d_rain> + <intercept>\n",
        "\n",
        "Number of Observations:         4248\n",
        "Number of Degrees of Freedom:   5\n",
        "\n",
        "R-squared:         0.0091\n",
        "Adj R-squared:     0.0082\n",
        "\n",
        "Rmse:              0.3740\n",
        "\n",
        "F-stat (4, 4243):     9.7433, p-value:     0.0000\n",
        "\n",
        "Degrees of Freedom: model 4, resid 4243\n",
        "\n",
        "-----------------------Summary of Estimated Coefficients------------------------\n",
        "      Variable       Coef    Std Err     t-stat    p-value    CI 2.5%   CI 97.5%\n",
        "--------------------------------------------------------------------------------\n",
        "        precip     1.0765     0.2525       4.26     0.0000     0.5817     1.5713\n",
        "      d_precip    -0.0290     0.0294      -0.99     0.3234    -0.0866     0.0286\n",
        "          rain    -0.1707     0.0326      -5.24     0.0000    -0.2345    -0.1069\n",
        "        d_rain    -0.0010     0.0144      -0.07     0.9458    -0.0292     0.0272\n",
        "     intercept     1.4901     0.0069     217.36     0.0000     1.4767     1.5036\n",
        "---------------------------------End of Summary---------------------------------\n"
       ]
      }
     ],
     "prompt_number": 133
    },
    {
     "cell_type": "code",
     "collapsed": false,
     "input": [
      "#Male Average Duration\n",
      "reg_results = ols(y=reg_male['mean tripduration'], x=reg_male[['precip','d_precip','rain','d_rain']])\n",
      "reg_results"
     ],
     "language": "python",
     "metadata": {},
     "outputs": [
      {
       "metadata": {},
       "output_type": "pyout",
       "prompt_number": 134,
       "text": [
        "\n",
        "-------------------------Summary of Regression Analysis-------------------------\n",
        "\n",
        "Formula: Y ~ <precip> + <d_precip> + <rain> + <d_rain> + <intercept>\n",
        "\n",
        "Number of Observations:         4248\n",
        "Number of Degrees of Freedom:   5\n",
        "\n",
        "R-squared:         0.0120\n",
        "Adj R-squared:     0.0111\n",
        "\n",
        "Rmse:              2.7668\n",
        "\n",
        "F-stat (4, 4243):    12.8908, p-value:     0.0000\n",
        "\n",
        "Degrees of Freedom: model 4, resid 4243\n",
        "\n",
        "-----------------------Summary of Estimated Coefficients------------------------\n",
        "      Variable       Coef    Std Err     t-stat    p-value    CI 2.5%   CI 97.5%\n",
        "--------------------------------------------------------------------------------\n",
        "        precip     5.2592     1.8675       2.82     0.0049     1.5989     8.9196\n",
        "      d_precip    -0.3762     0.2174      -1.73     0.0835    -0.8023     0.0498\n",
        "          rain    -1.3157     0.2409      -5.46     0.0000    -1.7879    -0.8436\n",
        "        d_rain    -0.1202     0.1064      -1.13     0.2588    -0.3287     0.0884\n",
        "     intercept    10.8596     0.0507     214.13     0.0000    10.7602    10.9590\n",
        "---------------------------------End of Summary---------------------------------\n"
       ]
      }
     ],
     "prompt_number": 134
    },
    {
     "cell_type": "code",
     "collapsed": false,
     "input": [
      "#Male Average Speed\n",
      "reg_results = ols(y=reg_male['mean avg_speed'], x=reg_male[['precip','d_precip','rain','d_rain']])\n",
      "reg_results"
     ],
     "language": "python",
     "metadata": {},
     "outputs": [
      {
       "metadata": {},
       "output_type": "pyout",
       "prompt_number": 135,
       "text": [
        "\n",
        "-------------------------Summary of Regression Analysis-------------------------\n",
        "\n",
        "Formula: Y ~ <precip> + <d_precip> + <rain> + <d_rain> + <intercept>\n",
        "\n",
        "Number of Observations:         4248\n",
        "Number of Degrees of Freedom:   5\n",
        "\n",
        "R-squared:         0.0039\n",
        "Adj R-squared:     0.0029\n",
        "\n",
        "Rmse:              1.1921\n",
        "\n",
        "F-stat (4, 4243):     4.1026, p-value:     0.0025\n",
        "\n",
        "Degrees of Freedom: model 4, resid 4243\n",
        "\n",
        "-----------------------Summary of Estimated Coefficients------------------------\n",
        "      Variable       Coef    Std Err     t-stat    p-value    CI 2.5%   CI 97.5%\n",
        "--------------------------------------------------------------------------------\n",
        "        precip     1.1430     0.8047       1.42     0.1556    -0.4342     2.7201\n",
        "      d_precip     0.0591     0.0937       0.63     0.5278    -0.1244     0.2427\n",
        "          rain     0.1358     0.1038       1.31     0.1908    -0.0676     0.3392\n",
        "        d_rain     0.0691     0.0458       1.51     0.1320    -0.0208     0.1589\n",
        "     intercept     8.5981     0.0219     393.48     0.0000     8.5553     8.6409\n",
        "---------------------------------End of Summary---------------------------------\n"
       ]
      }
     ],
     "prompt_number": 135
    }
   ],
   "metadata": {}
  }
 ]
}